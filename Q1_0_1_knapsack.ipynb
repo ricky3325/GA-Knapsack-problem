{
  "nbformat": 4,
  "nbformat_minor": 0,
  "metadata": {
    "colab": {
      "name": "Q1 0-1 knapsack.ipynb",
      "provenance": [],
      "collapsed_sections": []
    },
    "kernelspec": {
      "name": "python3",
      "display_name": "Python 3"
    },
    "language_info": {
      "name": "python"
    }
  },
  "cells": [
    {
      "cell_type": "code",
      "execution_count": 64,
      "metadata": {
        "colab": {
          "base_uri": "https://localhost:8080/"
        },
        "id": "jC0nJ-ZhUWfY",
        "outputId": "58559af8-d5bc-4da6-9749-f26b6c404abc"
      },
      "outputs": [
        {
          "output_type": "stream",
          "name": "stdout",
          "text": [
            "[349.0, 13518963.0, 9750.0, 887.0]\n",
            "3382487.25\n",
            "Spend 0.0491 sec(s)\n"
          ]
        }
      ],
      "source": [
        "import time, copy\n",
        "import numpy as np\n",
        "\n",
        "def load_p1():\n",
        "  weights = np.array([23, 31, 29, 44, 53, 38, 69, 85, 89, 8])\n",
        "  profits = np.array([92, 57, 49, 68, 60, 43, 67, 84, 87, 72])\n",
        "  capacity = 165\n",
        "  return weights, profits, capacity\n",
        "\n",
        "def load_p8():\n",
        "  weights = [382745, 799601, 909247, 729069, 467902, 44328, 34610, 698150, 823460, 903959, 853665, 551830, 610856, 670702, 488960, 951111, 323046, 446298, 931161, 31385, 496951, 264724, 224916, 169684]\n",
        "  profits = [825594, 1677009, 1676628, 1523970, 943972, 97426, 69666, 1296457, 1679693, 1902996, 1844992, 1049289, 1252836, 1319836, 953277, 2067538, 675367, 853655, 1826027, 65731, 901489, 577243, 466257, 369261]\n",
        "  capacity = 6404180\n",
        "  return weights, profits, capacity\n",
        "\n",
        "def load_p2_8():\n",
        "  weights = [983, 982, 981, 980, 979, 978, 488, 976, 972, 486, 486, 972, 972, 485, 485, 969, 966, 483, 964, 963, 961, 958, 959]\n",
        "  profits = [81, 980, 979, 978, 977, 976, 487, 974, 970, 485, 485, 970, 970, 484, 484, 976, 974, 482, 962, 961, 959, 958, 857]\n",
        "  capacity = 10000\n",
        "  return weights, profits, capacity\n",
        "\n",
        "def load_p2_10():\n",
        "  weights = [84, 83, 43, 4, 44, 6, 82, 92, 25, 83, 56, 18, 58, 14, 48, 70, 96, 32, 68, 92]\n",
        "  profits = [91, 72, 90, 46, 55, 8, 35, 75, 61, 15, 77, 40, 63, 75, 29, 75, 17, 78, 40, 44]\n",
        "  capacity = 879\n",
        "  return weights, profits, capacity\n",
        "\n",
        "def get_data(data_name):#Ricky: 取資料 不管\n",
        "  if data_name == \"p1\":\n",
        "    return load_p1()\n",
        "  elif data_name == \"p8\":\n",
        "    return load_p8()\n",
        "  elif data_name == \"p2_8\":\n",
        "    return load_p2_8()\n",
        "  elif data_name == \"p2_10\":\n",
        "    return load_p2_10()\n",
        "\n",
        "def selection(population, fitness, k=3): #Ricky: 隨機挑選選擇的 0101101000, (幾個群體, 群體個數) fitness 隨機取得的重量與價值結果\n",
        "  parents = np.empty((population.shape[0], population.shape[1])) #Ricky: 用原本隨機挑選的群體大小與群體個數作為父代\n",
        "  for parent_num in range(population.shape[0]): #Ricky: for loop 群體大小 = 幾個群體\n",
        "    selection_ix = np.random.randint(len(population)) #Ricky: 隨機選一個基因 隨機一個index\n",
        "    for ix in np.random.randint(0, len(population), k-1): #Ricky: 隨機選一個二維的\n",
        "      if fitness[ix] > fitness[selection_ix]:\n",
        "        selection_ix = ix\n",
        "    parents[parent_num, :] = population[selection_ix, :]\n",
        "  return parents\n",
        "\n",
        "def crossover(parents, pc=0.8):\n",
        "  dim_size = parents.shape[1]\n",
        "  offspring = copy.copy(parents)\n",
        "  for i in range(int(parents.shape[0] / 2)):\n",
        "    if np.random.random() > pc:\n",
        "      x, y = 2*i, 2*i+1\n",
        "      k = np.random.randint(dim_size) # crossover point\n",
        "      offspring[x][k+1:] = parents[y][k+1:]\n",
        "      offspring[y][k+1:] = parents[x][k+1:]\n",
        "  return offspring\n",
        "\n",
        "def mutation(offspring, pm=0.05):\n",
        "  d_list = np.array([i for i in range(offspring.shape[1])])\n",
        "  for i in range(offspring.shape[0]):\n",
        "    if np.random.random() < pm:\n",
        "      mutation_point = np.random.choice(d_list, 2, replace=False)\n",
        "      for j in mutation_point:\n",
        "        if offspring[i][j] == 1:\n",
        "          offspring[i][j] = 0\n",
        "        else:\n",
        "          offspring[i][j] = 1\n",
        "  return offspring\n",
        "\n",
        "def get_fitness(X, w, p, b):#Ricky: X 隨機挑選選擇的 w 全部重量的數值 p 全部價值的數值 b 能裝的重量\n",
        "  results = np.zeros(population_size)#Ricky: return 有population_size個大小的list 裡面都放 0\n",
        "  for i in range(X.shape[0]):#Ricky: .shape[0] = 矩陣行數 = 幾個群體\n",
        "    totalWeight = totalProfit = 0 #Ricky: 都先為0\n",
        "    for j in range(X.shape[1]):#Ricky: .shape[1] = 矩陣列數 = 群體個數\n",
        "      if totalWeight + w[j] <= b: #Ricky: 假如背包還可以裝\n",
        "        totalWeight += X[i][j] * w[j] #Ricky: 重量加總 = 有沒有選到0/1 * 該重量\n",
        "        totalProfit += X[i][j] * p[j] #Ricky: 價值加總 = 有沒有選到0/1 * 該價值\n",
        "    results[i] = totalProfit\n",
        "  return results\n",
        "\n",
        "start_time = time.time()\n",
        "np.random.seed(7)\n",
        "\n",
        "datasets = [\"p1\", \"p8\", \"p2_8\", \"p2_10\"]\n",
        "result = []\n",
        "for data_name in datasets:\n",
        "  weights, profits, capacity = get_data(data_name)\n",
        "  dimension_size = len(weights) #Ricky: 群體個數 -> 重量的地方有幾個數值 EX1:10個\n",
        "  population_size = dimension_size*3 #Ricky: 利用浮動改變大小\n",
        "  iteration_size = dimension_size//5 #Ricky: 利用浮動改變大小 原因: 不是每一個set都需要這麼多次才能得到最佳解 --------------------------------------------------///<<<< SOL >>>>\n",
        "  pc = 0.8\n",
        "  pm = 0.05\n",
        "  best_solution, best_fitness = [], []\n",
        "\n",
        "  population = np.random.randint(2, size=(population_size, dimension_size)) #Ricky: 隨機挑選選擇的 0101101000, (幾個群體, 群體個數)\n",
        "  fitness = np.zeros(population_size) #Ricky: return 有population_size個大小的list 裡面都放 0\n",
        "  fitness = get_fitness(population, weights, profits, capacity)  #Ricky: 隨機取得的重量與價值結果\n",
        "  for iter in range(iteration_size): #Ricky: iteration_size要繁衍幾代\n",
        "    parents = selection(population, fitness)\n",
        "    offspring_crossover = crossover(parents, pc)\n",
        "    offspring_mutation = mutation(offspring_crossover, pm)\n",
        "    population[:] = offspring_mutation[:]\n",
        "    fitness = get_fitness(population, weights, profits, capacity)\n",
        "  \n",
        "  result.append(np.max(fitness))\n",
        "print(result)\n",
        "print(np.mean(result))\n",
        "end_time = time.time()\n",
        "print(\"Spend %0.4f sec(s)\" % (end_time - start_time))"
      ]
    },
    {
      "cell_type": "code",
      "source": [
        ""
      ],
      "metadata": {
        "id": "wSvMxG5nVgUW"
      },
      "execution_count": null,
      "outputs": []
    },
    {
      "cell_type": "code",
      "source": [
        ""
      ],
      "metadata": {
        "id": "Cs78zzlWVgyx"
      },
      "execution_count": null,
      "outputs": []
    },
    {
      "cell_type": "code",
      "source": [
        ""
      ],
      "metadata": {
        "colab": {
          "base_uri": "https://localhost:8080/"
        },
        "id": "Tr5iJgklVg1e",
        "outputId": "b7cfd675-311b-4e99-b7f0-138b4bcda828"
      },
      "execution_count": null,
      "outputs": [
        {
          "output_type": "stream",
          "name": "stdout",
          "text": [
            "3341592.0\n",
            "Spend 0.0480 sec(s)\n"
          ]
        }
      ]
    },
    {
      "cell_type": "code",
      "source": [
        ""
      ],
      "metadata": {
        "id": "ioEECrTKlavu"
      },
      "execution_count": null,
      "outputs": []
    },
    {
      "cell_type": "code",
      "source": [
        ""
      ],
      "metadata": {
        "id": "daSiQc3AaOGY"
      },
      "execution_count": null,
      "outputs": []
    }
  ]
}