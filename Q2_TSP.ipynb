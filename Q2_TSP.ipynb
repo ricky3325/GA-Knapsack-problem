{
  "nbformat": 4,
  "nbformat_minor": 0,
  "metadata": {
    "colab": {
      "name": "Q2 TSP",
      "provenance": [],
      "collapsed_sections": []
    },
    "kernelspec": {
      "name": "python3",
      "display_name": "Python 3"
    },
    "language_info": {
      "name": "python"
    },
    "accelerator": "GPU"
  },
  "cells": [
    {
      "cell_type": "code",
      "execution_count": 20,
      "metadata": {
        "colab": {
          "base_uri": "https://localhost:8080/"
        },
        "id": "AOVnaZAuULVB",
        "outputId": "727303b2-4a12-4a01-cf22-6f7791d2e919"
      },
      "outputs": [
        {
          "output_type": "stream",
          "name": "stdout",
          "text": [
            "[2713.4844082566638, 2599.9951223072835, 28053.19574256985, 2841788.1688979245]\n",
            "718788.7110427646\n",
            "Spend 278.8782 sec(s)\n"
          ]
        }
      ],
      "source": [
        "import time, copy\n",
        "import numpy as np\n",
        "\n",
        "def load_dataset(file_name):\n",
        "  f = open(file_name)\n",
        "  file_content = f.readlines()\n",
        "  f.close()\n",
        "  data = file_content[6:-1]\n",
        "  for i in range(len(data)):\n",
        "    data[i] = data[i].replace(\"\\n\", \"\").lstrip()\n",
        "    data[i] = list(map(float, ' '.join(data[i].split()).split(\" \")))[1:]\n",
        "  data = np.array(data)\n",
        "  return data\n",
        "  \n",
        "def get_fitness(X, cities): #Ricky: X=population裡面放要經過的city順序 cities裡面放每一個city的位置\n",
        "  results = np.zeros(len(X)) #Ricky: 把結果放在這邊，預設先放0\n",
        "  for i in range(len(X)): #Ricky: 由第0個到len(X)依序\n",
        "    distance = 0 #Ricky: 計算每一條基因的路線長度\n",
        "    for j in range(len(X[i])-1): #Ricky: 由第0個到len(X)-1依序\n",
        "      distance += ((cities[X[i][j]][0] - cities[X[i][j+1]][0]) ** 2  #Ricky: 計算兩點間的距離 前一點與目前這一點\n",
        "        + (cities[X[i][j]][1] - cities[X[i][j+1]][1]) ** 2) **0.5\n",
        "    distance += ((cities[X[i][-1]][0] - cities[X[i][0]][0]) ** 2  #Ricky: 把路線接起來 計算尾與頭的距離\n",
        "      + (cities[X[i][-1]][1] - cities[X[i][0]][1]) ** 2) **0.5\n",
        "    results[i] = distance #Ricky: 存地N條基因的長度\n",
        "  return results #Ricky: 回傳城市與城市間距離\n",
        "\n",
        "def selection(population, fitness, k=3): #Ricky: 目前的旅行路線 以及 目前路線中各城市間的距離\n",
        "  parents = np.empty((population.shape[0], population.shape[1]))  #Ricky: 創造一個父代，大小就是目前有幾條基因(路線)，然後基因裡面有多少數字(城市)\n",
        "  for parent_num in range(population.shape[0]): #Ricky: range(population.shape[0]) >> 從0開始到population.shape[0](幾條基因)\n",
        "    selection_ix = np.random.randint(len(population))  #Ricky: 在隨機路線中，隨機選一個基因代號放在selection_ix中\n",
        "    for ix in np.random.randint(0, len(population), k-1): #Ricky: 隨機選擇k-1個基因 \n",
        "      if fitness[ix] < fitness[selection_ix]: #Ricky: 如果依序第ix條基因的路線總長度<隨機選擇的基因路線總長度\n",
        "        selection_ix = ix #Ricky: 再跟下一個隨機選的k-1個基因比較\n",
        "    parents[parent_num, :] = population[selection_ix, :] #Ricky: 好的基因留下\n",
        "  return parents.astype('int') #Ricky: 回傳好的個體\n",
        "\n",
        "def crossover(parents, pc=0.8):\n",
        "  dim_size = parents.shape[1]\n",
        "  offspring = copy.copy(parents)\n",
        "  for i in range(int(parents.shape[0] / 2)):\n",
        "    if np.random.random() > pc:\n",
        "      x, y = 2*i, 2*i+1\n",
        "      parent_1 = parents[x]\n",
        "      parent_2 = parents[y]\n",
        "      crossover_point = np.random.choice(dim_size, 2, replace=False)\n",
        "      if crossover_point[0] < crossover_point[1]:\n",
        "        p1, p2 = crossover_point[0], crossover_point[1]\n",
        "      else:\n",
        "        p1, p2 = crossover_point[1], crossover_point[0]\n",
        "      seq_1 = parent_1[p1:p2]\n",
        "      seq_2 = parent_2[p1:p2]\n",
        "      pick_1, pick_2 = [], []\n",
        "      for j in range(p1, dim_size):\n",
        "        if parent_1[j] not in seq_2:\n",
        "          pick_2.append(parent_1[j])\n",
        "        if parent_2[j] not in seq_1:\n",
        "          pick_1.append(parent_2[j])\n",
        "      for j in range(p1):\n",
        "        if parent_1[j] not in seq_2:\n",
        "          pick_2.append(parent_1[j])\n",
        "        if parent_2[j] not in seq_1:\n",
        "          pick_1.append(parent_2[j])\n",
        "      offspring_1 = pick_1\n",
        "      offspring_2 = pick_2\n",
        "      for j in range(p2-p1):\n",
        "        offspring_1.insert(p1+j, seq_1[j])\n",
        "        offspring_2.insert(p1+j, seq_2[j])\n",
        "\n",
        "      offspring[x] = offspring_1\n",
        "      offspring[y] = offspring_2\n",
        "  return offspring\n",
        "\n",
        "def mutation(offspring, pm=0.05):\n",
        "  d_list = np.array([i for i in range(offspring.shape[1])])\n",
        "  for i in range(offspring.shape[0]):\n",
        "    if np.random.random() < pm:\n",
        "      mutation = np.random.choice(dimension_size, 2, replace=False)\n",
        "      temp = offspring[i][mutation[0]]\n",
        "      offspring[i][mutation[0]] = offspring[i][mutation[1]]\n",
        "      offspring[i][mutation[1]] = temp\n",
        "  return offspring\n",
        "\n",
        "start_time = time.time()\n",
        "np.random.seed(7)\n",
        "\n",
        "datasets = [\"dantzig42.tsp\", \"eil101.tsp\", \"gr666.tsp\", \"pr1002.tsp\"]\n",
        "#datasets = [\"pr1002.tsp\"]\n",
        "result = []\n",
        "\n",
        "\n",
        "for data_name in datasets:#Ricky: 用for去輪巡每一個DATA\n",
        "  cities = load_dataset(data_name)#Ricky: 取第N個DATA SET\n",
        "  dimension_size = len(cities)#Ricky: 取DATA SET的個數 維度大小用cities的數量去定義 (必要len(cities)：因為要定義有多少個city)\n",
        "  population_size = dimension_size//100+2 #Ricky: 有幾條基因，每一條裡面有放經過城市的順序\n",
        "  iteration_size = dimension_size*5 #Ricky:需要繁衍幾代\n",
        "  pc = 0.8\n",
        "  pm = 0.05\n",
        "  best_solution, best_fitness = [], []\n",
        "\n",
        "  city_no = [i for i in range(dimension_size)] #Ricky: 看有多少個城市，給他做計算的編號\n",
        "  population = np.array([np.random.choice(city_no, dimension_size,  #Ricky: 去隨機取city的編號，然後放入計算的編號\n",
        "        replace=False) for i in range(population_size)]) #Ricky: 每條基因裡面的city不能重複且每一個城市都要取得\n",
        "  fitness = np.zeros(population_size) #Ricky: return 有population_size個大小的list 裡面都放 0\n",
        "  fitness = get_fitness(population, cities)  #Ricky: 去取得各城市間的距離 population裡面放要經過的city順序 cities裡面放每一個city的位置\n",
        "  for iter in range(iteration_size): #Ricky: 開始繁衍\n",
        "    parents = selection(population, fitness)  #Ricky: 去... 給目前的旅行路線 以及 目前路線中各城市間的距離\n",
        "    offspring_crossover = crossover(parents, pc)\n",
        "    offspring_mutation = mutation(offspring_crossover, pm)\n",
        "    population[:] = offspring_mutation[:]\n",
        "    fitness = get_fitness(offspring_crossover, cities)\n",
        "  \n",
        "  result.append(np.max(fitness))\n",
        "  \n",
        "print(result)\n",
        "print(np.mean(result))\n",
        "end_time = time.time()\n",
        "print(\"Spend %0.4f sec(s)\" % (end_time - start_time))"
      ]
    },
    {
      "cell_type": "code",
      "source": [
        ""
      ],
      "metadata": {
        "id": "zfao2wHjgfki"
      },
      "execution_count": null,
      "outputs": []
    },
    {
      "cell_type": "code",
      "source": [
        ""
      ],
      "metadata": {
        "id": "l6DU_19pfHEp"
      },
      "execution_count": null,
      "outputs": []
    }
  ]
}